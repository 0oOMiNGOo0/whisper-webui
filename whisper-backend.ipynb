{
  "nbformat": 4,
  "nbformat_minor": 0,
  "metadata": {
    "colab": {
      "provenance": [],
      "gpuType": "V100"
    },
    "kernelspec": {
      "name": "python3",
      "display_name": "Python 3"
    },
    "language_info": {
      "name": "python"
    },
    "accelerator": "GPU"
  },
  "cells": [
    {
      "cell_type": "code",
      "source": [
        "!pip install -U openai-whisper\n",
        "!pip install setuptools-rust\n",
        "!pip install pytube\n",
        "!apt -y install ffmpeg lame"
      ],
      "metadata": {
        "id": "LcuI-NUtnm-s",
        "colab": {
          "base_uri": "https://localhost:8080/"
        },
        "outputId": "b6518946-e0c5-4049-ffb1-dcdd55e25a6b"
      },
      "execution_count": null,
      "outputs": [
        {
          "output_type": "stream",
          "name": "stdout",
          "text": [
            "Collecting openai-whisper\n",
            "  Downloading openai-whisper-20230314.tar.gz (792 kB)\n",
            "\u001b[2K     \u001b[90m━━━━━━━━━━━━━━━━━━━━━━━━━━━━━━━━━━━━━━\u001b[0m \u001b[32m792.9/792.9 kB\u001b[0m \u001b[31m10.2 MB/s\u001b[0m eta \u001b[36m0:00:00\u001b[0m\n",
            "\u001b[?25h  Installing build dependencies ... \u001b[?25l\u001b[?25hdone\n",
            "  Getting requirements to build wheel ... \u001b[?25l\u001b[?25hdone\n",
            "  Preparing metadata (pyproject.toml) ... \u001b[?25l\u001b[?25hdone\n",
            "Requirement already satisfied: triton==2.0.0 in /usr/local/lib/python3.10/dist-packages (from openai-whisper) (2.0.0)\n",
            "Requirement already satisfied: numba in /usr/local/lib/python3.10/dist-packages (from openai-whisper) (0.56.4)\n",
            "Requirement already satisfied: numpy in /usr/local/lib/python3.10/dist-packages (from openai-whisper) (1.23.5)\n",
            "Requirement already satisfied: torch in /usr/local/lib/python3.10/dist-packages (from openai-whisper) (2.0.1+cu118)\n",
            "Requirement already satisfied: tqdm in /usr/local/lib/python3.10/dist-packages (from openai-whisper) (4.66.1)\n",
            "Requirement already satisfied: more-itertools in /usr/local/lib/python3.10/dist-packages (from openai-whisper) (10.1.0)\n",
            "Collecting tiktoken==0.3.1 (from openai-whisper)\n",
            "  Downloading tiktoken-0.3.1-cp310-cp310-manylinux_2_17_x86_64.manylinux2014_x86_64.whl (1.7 MB)\n",
            "\u001b[2K     \u001b[90m━━━━━━━━━━━━━━━━━━━━━━━━━━━━━━━━━━━━━━━━\u001b[0m \u001b[32m1.7/1.7 MB\u001b[0m \u001b[31m57.8 MB/s\u001b[0m eta \u001b[36m0:00:00\u001b[0m\n",
            "\u001b[?25hCollecting ffmpeg-python==0.2.0 (from openai-whisper)\n",
            "  Downloading ffmpeg_python-0.2.0-py3-none-any.whl (25 kB)\n",
            "Requirement already satisfied: future in /usr/local/lib/python3.10/dist-packages (from ffmpeg-python==0.2.0->openai-whisper) (0.18.3)\n",
            "Requirement already satisfied: regex>=2022.1.18 in /usr/local/lib/python3.10/dist-packages (from tiktoken==0.3.1->openai-whisper) (2023.6.3)\n",
            "Requirement already satisfied: requests>=2.26.0 in /usr/local/lib/python3.10/dist-packages (from tiktoken==0.3.1->openai-whisper) (2.31.0)\n",
            "Requirement already satisfied: cmake in /usr/local/lib/python3.10/dist-packages (from triton==2.0.0->openai-whisper) (3.27.4.1)\n",
            "Requirement already satisfied: filelock in /usr/local/lib/python3.10/dist-packages (from triton==2.0.0->openai-whisper) (3.12.2)\n",
            "Requirement already satisfied: lit in /usr/local/lib/python3.10/dist-packages (from triton==2.0.0->openai-whisper) (16.0.6)\n",
            "Requirement already satisfied: llvmlite<0.40,>=0.39.0dev0 in /usr/local/lib/python3.10/dist-packages (from numba->openai-whisper) (0.39.1)\n",
            "Requirement already satisfied: setuptools in /usr/local/lib/python3.10/dist-packages (from numba->openai-whisper) (67.7.2)\n",
            "Requirement already satisfied: typing-extensions in /usr/local/lib/python3.10/dist-packages (from torch->openai-whisper) (4.5.0)\n",
            "Requirement already satisfied: sympy in /usr/local/lib/python3.10/dist-packages (from torch->openai-whisper) (1.12)\n",
            "Requirement already satisfied: networkx in /usr/local/lib/python3.10/dist-packages (from torch->openai-whisper) (3.1)\n",
            "Requirement already satisfied: jinja2 in /usr/local/lib/python3.10/dist-packages (from torch->openai-whisper) (3.1.2)\n",
            "Requirement already satisfied: charset-normalizer<4,>=2 in /usr/local/lib/python3.10/dist-packages (from requests>=2.26.0->tiktoken==0.3.1->openai-whisper) (3.2.0)\n",
            "Requirement already satisfied: idna<4,>=2.5 in /usr/local/lib/python3.10/dist-packages (from requests>=2.26.0->tiktoken==0.3.1->openai-whisper) (3.4)\n",
            "Requirement already satisfied: urllib3<3,>=1.21.1 in /usr/local/lib/python3.10/dist-packages (from requests>=2.26.0->tiktoken==0.3.1->openai-whisper) (2.0.4)\n",
            "Requirement already satisfied: certifi>=2017.4.17 in /usr/local/lib/python3.10/dist-packages (from requests>=2.26.0->tiktoken==0.3.1->openai-whisper) (2023.7.22)\n",
            "Requirement already satisfied: MarkupSafe>=2.0 in /usr/local/lib/python3.10/dist-packages (from jinja2->torch->openai-whisper) (2.1.3)\n",
            "Requirement already satisfied: mpmath>=0.19 in /usr/local/lib/python3.10/dist-packages (from sympy->torch->openai-whisper) (1.3.0)\n",
            "Building wheels for collected packages: openai-whisper\n",
            "  Building wheel for openai-whisper (pyproject.toml) ... \u001b[?25l\u001b[?25hdone\n",
            "  Created wheel for openai-whisper: filename=openai_whisper-20230314-py3-none-any.whl size=796907 sha256=57e5ed042fc42051efed5cff10e4bd63e37af489cd1ea1729c68ba2dc62df4b9\n",
            "  Stored in directory: /root/.cache/pip/wheels/b2/13/5f/fe8245f6dc59df505879da4b2129932e342f02a80e6b87f27d\n",
            "Successfully built openai-whisper\n",
            "Installing collected packages: ffmpeg-python, tiktoken, openai-whisper\n",
            "Successfully installed ffmpeg-python-0.2.0 openai-whisper-20230314 tiktoken-0.3.1\n",
            "Collecting setuptools-rust\n",
            "  Downloading setuptools_rust-1.7.0-py3-none-any.whl (25 kB)\n",
            "Requirement already satisfied: setuptools>=62.4 in /usr/local/lib/python3.10/dist-packages (from setuptools-rust) (67.7.2)\n",
            "Collecting semantic-version<3,>=2.8.2 (from setuptools-rust)\n",
            "  Downloading semantic_version-2.10.0-py2.py3-none-any.whl (15 kB)\n",
            "Requirement already satisfied: typing-extensions>=3.7.4.3 in /usr/local/lib/python3.10/dist-packages (from setuptools-rust) (4.5.0)\n",
            "Requirement already satisfied: tomli>=1.2.1 in /usr/local/lib/python3.10/dist-packages (from setuptools-rust) (2.0.1)\n",
            "Installing collected packages: semantic-version, setuptools-rust\n",
            "Successfully installed semantic-version-2.10.0 setuptools-rust-1.7.0\n",
            "Collecting pytube\n",
            "  Downloading pytube-15.0.0-py3-none-any.whl (57 kB)\n",
            "\u001b[2K     \u001b[90m━━━━━━━━━━━━━━━━━━━━━━━━━━━━━━━━━━━━━━━━\u001b[0m \u001b[32m57.6/57.6 kB\u001b[0m \u001b[31m1.6 MB/s\u001b[0m eta \u001b[36m0:00:00\u001b[0m\n",
            "\u001b[?25hInstalling collected packages: pytube\n",
            "Successfully installed pytube-15.0.0\n",
            "Reading package lists... Done\n",
            "Building dependency tree... Done\n",
            "Reading state information... Done\n",
            "ffmpeg is already the newest version (7:4.4.2-0ubuntu0.22.04.1).\n",
            "Suggested packages:\n",
            "  lame-doc\n",
            "The following NEW packages will be installed:\n",
            "  lame\n",
            "0 upgraded, 1 newly installed, 0 to remove and 16 not upgraded.\n",
            "Need to get 51.3 kB of archives.\n",
            "After this operation, 129 kB of additional disk space will be used.\n",
            "Get:1 http://archive.ubuntu.com/ubuntu jammy/universe amd64 lame amd64 3.100-3build2 [51.3 kB]\n",
            "Fetched 51.3 kB in 1s (51.0 kB/s)\n",
            "Selecting previously unselected package lame.\n",
            "(Reading database ... 120901 files and directories currently installed.)\n",
            "Preparing to unpack .../lame_3.100-3build2_amd64.deb ...\n",
            "Unpacking lame (3.100-3build2) ...\n",
            "Setting up lame (3.100-3build2) ...\n",
            "Processing triggers for man-db (2.10.2-1) ...\n"
          ]
        }
      ]
    },
    {
      "cell_type": "code",
      "execution_count": null,
      "metadata": {
        "colab": {
          "base_uri": "https://localhost:8080/"
        },
        "id": "2TEt_lOSAKXQ",
        "outputId": "d19f1b83-60b1-494f-ca61-e3a6ef0b374a"
      },
      "outputs": [
        {
          "output_type": "stream",
          "name": "stdout",
          "text": [
            "Collecting pyngrok==4.1.1\n",
            "  Downloading pyngrok-4.1.1.tar.gz (18 kB)\n",
            "  Preparing metadata (setup.py) ... \u001b[?25l\u001b[?25hdone\n",
            "Requirement already satisfied: future in /usr/local/lib/python3.10/dist-packages (from pyngrok==4.1.1) (0.18.3)\n",
            "Requirement already satisfied: PyYAML in /usr/local/lib/python3.10/dist-packages (from pyngrok==4.1.1) (6.0.1)\n",
            "Building wheels for collected packages: pyngrok\n",
            "  Building wheel for pyngrok (setup.py) ... \u001b[?25l\u001b[?25hdone\n",
            "  Created wheel for pyngrok: filename=pyngrok-4.1.1-py3-none-any.whl size=15963 sha256=564387c7c9461fc266a2651bdf271a4311327d5a8a7ea1a78b620ad78283e7c2\n",
            "  Stored in directory: /root/.cache/pip/wheels/4c/7c/4c/632fba2ea8e88d8890102eb07bc922e1ca8fa14db5902c91a8\n",
            "Successfully built pyngrok\n",
            "Installing collected packages: pyngrok\n",
            "Successfully installed pyngrok-4.1.1\n",
            "Requirement already satisfied: Flask in /usr/local/lib/python3.10/dist-packages (2.2.5)\n",
            "Collecting eventlet\n",
            "  Downloading eventlet-0.33.3-py2.py3-none-any.whl (226 kB)\n",
            "\u001b[2K     \u001b[90m━━━━━━━━━━━━━━━━━━━━━━━━━━━━━━━━━━━━━━━\u001b[0m \u001b[32m226.8/226.8 kB\u001b[0m \u001b[31m4.2 MB/s\u001b[0m eta \u001b[36m0:00:00\u001b[0m\n",
            "\u001b[?25hCollecting flask-socketio\n",
            "  Downloading Flask_SocketIO-5.3.6-py3-none-any.whl (18 kB)\n",
            "Requirement already satisfied: Werkzeug>=2.2.2 in /usr/local/lib/python3.10/dist-packages (from Flask) (2.3.7)\n",
            "Requirement already satisfied: Jinja2>=3.0 in /usr/local/lib/python3.10/dist-packages (from Flask) (3.1.2)\n",
            "Requirement already satisfied: itsdangerous>=2.0 in /usr/local/lib/python3.10/dist-packages (from Flask) (2.1.2)\n",
            "Requirement already satisfied: click>=8.0 in /usr/local/lib/python3.10/dist-packages (from Flask) (8.1.7)\n",
            "Collecting dnspython>=1.15.0 (from eventlet)\n",
            "  Downloading dnspython-2.4.2-py3-none-any.whl (300 kB)\n",
            "\u001b[2K     \u001b[90m━━━━━━━━━━━━━━━━━━━━━━━━━━━━━━━━━━━━━━━\u001b[0m \u001b[32m300.4/300.4 kB\u001b[0m \u001b[31m8.2 MB/s\u001b[0m eta \u001b[36m0:00:00\u001b[0m\n",
            "\u001b[?25hRequirement already satisfied: greenlet>=0.3 in /usr/local/lib/python3.10/dist-packages (from eventlet) (2.0.2)\n",
            "Requirement already satisfied: six>=1.10.0 in /usr/local/lib/python3.10/dist-packages (from eventlet) (1.16.0)\n",
            "Collecting python-socketio>=5.0.2 (from flask-socketio)\n",
            "  Downloading python_socketio-5.9.0-py3-none-any.whl (57 kB)\n",
            "\u001b[2K     \u001b[90m━━━━━━━━━━━━━━━━━━━━━━━━━━━━━━━━━━━━━━━━\u001b[0m \u001b[32m57.6/57.6 kB\u001b[0m \u001b[31m7.4 MB/s\u001b[0m eta \u001b[36m0:00:00\u001b[0m\n",
            "\u001b[?25hRequirement already satisfied: MarkupSafe>=2.0 in /usr/local/lib/python3.10/dist-packages (from Jinja2>=3.0->Flask) (2.1.3)\n",
            "Collecting bidict>=0.21.0 (from python-socketio>=5.0.2->flask-socketio)\n",
            "  Downloading bidict-0.22.1-py3-none-any.whl (35 kB)\n",
            "Collecting python-engineio>=4.7.0 (from python-socketio>=5.0.2->flask-socketio)\n",
            "  Downloading python_engineio-4.7.0-py3-none-any.whl (54 kB)\n",
            "\u001b[2K     \u001b[90m━━━━━━━━━━━━━━━━━━━━━━━━━━━━━━━━━━━━━━━━\u001b[0m \u001b[32m54.5/54.5 kB\u001b[0m \u001b[31m7.3 MB/s\u001b[0m eta \u001b[36m0:00:00\u001b[0m\n",
            "\u001b[?25hInstalling collected packages: python-engineio, dnspython, bidict, python-socketio, eventlet, flask-socketio\n",
            "Successfully installed bidict-0.22.1 dnspython-2.4.2 eventlet-0.33.3 flask-socketio-5.3.6 python-engineio-4.7.0 python-socketio-5.9.0\n",
            "Collecting flask_ngrok\n",
            "  Downloading flask_ngrok-0.0.25-py3-none-any.whl (3.1 kB)\n",
            "Requirement already satisfied: Flask>=0.8 in /usr/local/lib/python3.10/dist-packages (from flask_ngrok) (2.2.5)\n",
            "Requirement already satisfied: requests in /usr/local/lib/python3.10/dist-packages (from flask_ngrok) (2.31.0)\n",
            "Requirement already satisfied: Werkzeug>=2.2.2 in /usr/local/lib/python3.10/dist-packages (from Flask>=0.8->flask_ngrok) (2.3.7)\n",
            "Requirement already satisfied: Jinja2>=3.0 in /usr/local/lib/python3.10/dist-packages (from Flask>=0.8->flask_ngrok) (3.1.2)\n",
            "Requirement already satisfied: itsdangerous>=2.0 in /usr/local/lib/python3.10/dist-packages (from Flask>=0.8->flask_ngrok) (2.1.2)\n",
            "Requirement already satisfied: click>=8.0 in /usr/local/lib/python3.10/dist-packages (from Flask>=0.8->flask_ngrok) (8.1.7)\n",
            "Requirement already satisfied: charset-normalizer<4,>=2 in /usr/local/lib/python3.10/dist-packages (from requests->flask_ngrok) (3.2.0)\n",
            "Requirement already satisfied: idna<4,>=2.5 in /usr/local/lib/python3.10/dist-packages (from requests->flask_ngrok) (3.4)\n",
            "Requirement already satisfied: urllib3<3,>=1.21.1 in /usr/local/lib/python3.10/dist-packages (from requests->flask_ngrok) (2.0.4)\n",
            "Requirement already satisfied: certifi>=2017.4.17 in /usr/local/lib/python3.10/dist-packages (from requests->flask_ngrok) (2023.7.22)\n",
            "Requirement already satisfied: MarkupSafe>=2.0 in /usr/local/lib/python3.10/dist-packages (from Jinja2>=3.0->Flask>=0.8->flask_ngrok) (2.1.3)\n",
            "Installing collected packages: flask_ngrok\n",
            "Successfully installed flask_ngrok-0.0.25\n",
            "Collecting flask_cors\n",
            "  Downloading Flask_Cors-4.0.0-py2.py3-none-any.whl (14 kB)\n",
            "Requirement already satisfied: Flask>=0.9 in /usr/local/lib/python3.10/dist-packages (from flask_cors) (2.2.5)\n",
            "Requirement already satisfied: Werkzeug>=2.2.2 in /usr/local/lib/python3.10/dist-packages (from Flask>=0.9->flask_cors) (2.3.7)\n",
            "Requirement already satisfied: Jinja2>=3.0 in /usr/local/lib/python3.10/dist-packages (from Flask>=0.9->flask_cors) (3.1.2)\n",
            "Requirement already satisfied: itsdangerous>=2.0 in /usr/local/lib/python3.10/dist-packages (from Flask>=0.9->flask_cors) (2.1.2)\n",
            "Requirement already satisfied: click>=8.0 in /usr/local/lib/python3.10/dist-packages (from Flask>=0.9->flask_cors) (8.1.7)\n",
            "Requirement already satisfied: MarkupSafe>=2.0 in /usr/local/lib/python3.10/dist-packages (from Jinja2>=3.0->Flask>=0.9->flask_cors) (2.1.3)\n",
            "Installing collected packages: flask_cors\n",
            "Successfully installed flask_cors-4.0.0\n"
          ]
        }
      ],
      "source": [
        "!pip install pyngrok==4.1.1\n",
        "!pip install Flask eventlet flask-socketio\n",
        "!pip install flask_ngrok\n",
        "!pip install flask_cors"
      ]
    },
    {
      "cell_type": "code",
      "execution_count": null,
      "metadata": {
        "colab": {
          "base_uri": "https://localhost:8080/"
        },
        "id": "VcnYRWWnx2QG",
        "outputId": "4a510a8a-e4dd-44f4-f8d2-62ca98619768"
      },
      "outputs": [
        {
          "output_type": "stream",
          "name": "stdout",
          "text": [
            "Authtoken saved to configuration file: /root/.ngrok2/ngrok.yml\n"
          ]
        }
      ],
      "source": [
        "from pyngrok import ngrok\n",
        "!ngrok authtoken \"2Ogwlhxbd6wfxfvpGu0rx4JCS6U_5Gqo9WE95gtG2SfetXMxu\""
      ]
    },
    {
      "cell_type": "code",
      "source": [
        "from pytube import YouTube\n",
        "\n",
        "video_url = \"https://www.youtube.com/watch?v=VmFFlK03WHc&pp=ygUQ7ZWc6rWt7IKsIOqwleydmA%3D%3D\"\n",
        "\n",
        "yt = YouTube(video_url)\n",
        "stream = yt.streams.filter(only_audio=True).first()\n",
        "output_directory = '/content/'\n",
        "output_filename = 'file.mp3'\n",
        "\n",
        "# MP3 파일로 저장합니다.\n",
        "stream.download(output_path=output_directory, filename=output_filename)"
      ],
      "metadata": {
        "colab": {
          "base_uri": "https://localhost:8080/",
          "height": 36
        },
        "id": "nvxldaZGSwkb",
        "outputId": "5de5031b-cace-40b5-a240-e824af17b541"
      },
      "execution_count": null,
      "outputs": [
        {
          "output_type": "execute_result",
          "data": {
            "text/plain": [
              "'/content/file.mp3'"
            ],
            "application/vnd.google.colaboratory.intrinsic+json": {
              "type": "string"
            }
          },
          "metadata": {},
          "execution_count": 34
        }
      ]
    },
    {
      "cell_type": "code",
      "source": [
        "#%%writefile app.py\n",
        "\n",
        "from pyngrok import ngrok\n",
        "from flask_cors import CORS\n",
        "from flask_socketio import SocketIO\n",
        "from flask_ngrok import run_with_ngrok\n",
        "from flask import Flask, jsonify, request, send_file\n",
        "\n",
        "import sys\n",
        "import tqdm\n",
        "import threading\n",
        "from typing import Union\n",
        "\n",
        "import os\n",
        "import whisper\n",
        "import zipfile\n",
        "from whisper.utils import get_writer\n",
        "from pytube import YouTube\n",
        "from pathlib import Path\n",
        "\n",
        "\n",
        "app = Flask(__name__)\n",
        "app.config['SECRET_KEY'] = 'your_secret_key'\n",
        "socketio = SocketIO(app)\n",
        "run_with_ngrok(app)\n",
        "CORS(app)\n",
        "\n",
        "\n",
        "@socketio.on('message')\n",
        "def handle_message(message):\n",
        "    print('Received message:', message)\n",
        "    socketio.emit('response', 'Server received your message: ' + message)\n",
        "\n",
        "\n",
        "class ProgressListener:\n",
        "    def on_progress(self, current: Union[int, float], total: Union[int, float]):\n",
        "        self.total = total\n",
        "\n",
        "    def on_finished(self):\n",
        "        pass\n",
        "\n",
        "class _CustomProgressBar(tqdm.tqdm):\n",
        "    def __init__(self, *args, **kwargs):\n",
        "        super().__init__(*args, **kwargs)\n",
        "        self._current = self.n  # Set the initial value\n",
        "\n",
        "    def update(self, n):\n",
        "        super().update(n)\n",
        "        # Because the progress bar might be disabled, we need to manually update the progress\n",
        "        self._current += n\n",
        "\n",
        "        # Inform listeners\n",
        "        listeners = _get_thread_local_listeners()\n",
        "\n",
        "        for listener in listeners:\n",
        "            listener.on_progress(self._current, self.total)\n",
        "\n",
        "_thread_local = threading.local()\n",
        "\n",
        "def _get_thread_local_listeners():\n",
        "    if not hasattr(_thread_local, 'listeners'):\n",
        "        _thread_local.listeners = []\n",
        "    return _thread_local.listeners\n",
        "\n",
        "_hooked = False\n",
        "\n",
        "def init_progress_hook():\n",
        "    global _hooked\n",
        "\n",
        "    if _hooked:\n",
        "        return\n",
        "\n",
        "    # Inject into tqdm.tqdm of Whisper, so we can see progress\n",
        "    import whisper.transcribe\n",
        "    transcribe_module = sys.modules['whisper.transcribe']\n",
        "    transcribe_module.tqdm.tqdm = _CustomProgressBar\n",
        "    _hooked = True\n",
        "\n",
        "def register_thread_local_progress_listener(progress_listener: ProgressListener):\n",
        "    # This is a workaround for the fact that the progress bar is not exposed in the API\n",
        "    init_progress_hook()\n",
        "\n",
        "    listeners = _get_thread_local_listeners()\n",
        "    listeners.append(progress_listener)\n",
        "\n",
        "def unregister_thread_local_progress_listener(progress_listener: ProgressListener):\n",
        "    listeners = _get_thread_local_listeners()\n",
        "\n",
        "    if progress_listener in listeners:\n",
        "        listeners.remove(progress_listener)\n",
        "\n",
        "class ProgressListenerHandle:\n",
        "    def __init__(self, listener: ProgressListener):\n",
        "        self.listener = listener\n",
        "\n",
        "    def __enter__(self):\n",
        "        register_thread_local_progress_listener(self.listener)\n",
        "\n",
        "    def __exit__(self, exc_type, exc_val, exc_tb):\n",
        "        unregister_thread_local_progress_listener(self.listener)\n",
        "\n",
        "        if exc_type is None:\n",
        "            self.listener.on_finished()\n",
        "\n",
        "def create_progress_listener_handle(progress_listener: ProgressListener):\n",
        "    return ProgressListenerHandle(progress_listener)\n",
        "\n",
        "class PrintingProgressListener:\n",
        "    def on_progress(self, current: Union[int, float], total: Union[int, float]):\n",
        "      print(f\"Progress: {current}/{total}\")\n",
        "      #socket\n",
        "    def on_finished(self):\n",
        "      print(\"Finished\")\n",
        "\n",
        "\n",
        "\n",
        "@app.route('/', methods=['GET'])\n",
        "def GETA():\n",
        "  if request.method == 'GET':\n",
        "    return jsonify({ \"test\": \"abc\" })\n",
        "\n",
        "@app.route('/', methods=['POST'])\n",
        "def GETB():\n",
        "    params = request.form\n",
        "    content = request.files['uploadFile']\n",
        "    print(params)\n",
        "\n",
        "    model = whisper.load_model(params['selectedModel'])\n",
        "    fromlanguage = params['selectedFromLanguage']\n",
        "    tolanguage = params['selectedToLanguage']\n",
        "\n",
        "\n",
        "    options = dict(language=language, word_timestamps=True, verbose=False)\n",
        "\n",
        "    transcribe_options = dict(task=\"transcribe\", **options)\n",
        "    translate_options = dict(task=\"translate\", **options)\n",
        "\n",
        "    if fromlanguage != 'en' and tolanguage == 'en':\n",
        "      with create_progress_listener_handle(PrintingProgressListener()) as listener:\n",
        "        result = model.transcribe(content, **translate_options)\n",
        "    elif fromlanguage != 'en' and tolanguage != 'en' and fromlanguage != tolanguage:\n",
        "      with create_progress_listener_handle(PrintingProgressListener()) as listener:\n",
        "        result = model.transcribe(content, **translate_options)\n",
        "    else:\n",
        "      with create_progress_listener_handle(PrintingProgressListener()) as listener:\n",
        "        result = model.transcribe(content, **transcribe_options)\n",
        "\n",
        "    file_path = Path(content)\n",
        "    txt_path = file_path.with_suffix(\".txt\")\n",
        "    with open(txt_path, \"w\", encoding=\"utf-8\") as txt:\n",
        "        txt.write(result[\"text\"])\n",
        "\n",
        "    output_directory = file_path.parent\n",
        "    srt_writer = get_writer(\"srt\", output_directory)\n",
        "    srt_writer(result, str(file_path.stem))\n",
        "\n",
        "    vtt_writer = get_writer(\"vtt\", output_directory)\n",
        "    vtt_writer(result, str(file_path.stem))\n",
        "\n",
        "    tsv_writer = get_writer(\"tsv\", output_directory)\n",
        "    tsv_writer(result, str(file_path.stem))\n",
        "\n",
        "    file_paths = ['/content/file.srt','/content/file.tsv','/content/file.txt','/content/file.vtt']\n",
        "\n",
        "    zip_filename = 'downloaded_files.zip'\n",
        "    with zipfile.ZipFile(zip_filename, 'w', zipfile.ZIP_DEFLATED) as zipf:\n",
        "        for file_path in file_paths:\n",
        "            zipf.write(file_path, os.path.basename(file_path))\n",
        "\n",
        "    return send_file('/content/file.srt', as_attachment=True)\n",
        "\n",
        "app.run()"
      ],
      "metadata": {
        "colab": {
          "base_uri": "https://localhost:8080/"
        },
        "id": "T0uyHnpdEb4G",
        "outputId": "2eb74b27-1b5d-400e-947f-b8705a05d014"
      },
      "execution_count": null,
      "outputs": [
        {
          "metadata": {
            "tags": null
          },
          "name": "stdout",
          "output_type": "stream",
          "text": [
            " * Serving Flask app '__main__'\n",
            " * Debug mode: off\n"
          ]
        },
        {
          "metadata": {
            "tags": null
          },
          "name": "stderr",
          "output_type": "stream",
          "text": [
            "INFO:werkzeug:\u001b[31m\u001b[1mWARNING: This is a development server. Do not use it in a production deployment. Use a production WSGI server instead.\u001b[0m\n",
            " * Running on http://127.0.0.1:5000\n",
            "INFO:werkzeug:\u001b[33mPress CTRL+C to quit\u001b[0m\n"
          ]
        },
        {
          "metadata": {
            "tags": null
          },
          "name": "stdout",
          "output_type": "stream",
          "text": [
            " * Running on http://dfb0-34-80-21-16.ngrok-free.app\n",
            " * Traffic stats available on http://127.0.0.1:4040\n"
          ]
        },
        {
          "output_type": "stream",
          "name": "stderr",
          "text": [
            "INFO:werkzeug:127.0.0.1 - - [11/Sep/2023 03:58:15] \"GET / HTTP/1.1\" 200 -\n",
            "INFO:werkzeug:127.0.0.1 - - [11/Sep/2023 03:58:15] \"\u001b[33mGET /favicon.ico HTTP/1.1\u001b[0m\" 404 -\n"
          ]
        },
        {
          "output_type": "stream",
          "name": "stdout",
          "text": [
            "ImmutableMultiDict([('selectedLanguage', 'ko'), ('selectedModel', 'medium'), ('selectedVad', 'silero-vad'), ('youtube', 'https://www.youtube.com/watch?v=VmFFlK03WHc&pp=ygUQ7ZWc6rWt7IKsIOqwleydmA%3D%3D'), ('uploadFile', 'None'), ('record', 'None'), ('task', 'false'), ('mergeWindows', '5'), ('maxMergeSize', '30'), ('isTimestamps', 'true'), ('isHighlight', 'false')])\n"
          ]
        },
        {
          "output_type": "stream",
          "name": "stderr",
          "text": [
            "  6%|▌         | 2100/36371 [00:06<01:46, 320.57frames/s]"
          ]
        },
        {
          "output_type": "stream",
          "name": "stdout",
          "text": [
            "Progress: 2100/36371\n",
            "Progress: 4200/36371\n",
            "Progress: 6300/36371\n"
          ]
        },
        {
          "output_type": "stream",
          "name": "stderr",
          "text": [
            "\r 12%|█▏        | 4484/36371 [00:13<01:36, 331.89frames/s]"
          ]
        },
        {
          "output_type": "stream",
          "name": "stdout",
          "text": [
            "Progress: 8684/36371\n",
            "Progress: 11068/36371\n",
            "Progress: 13452/36371\n"
          ]
        },
        {
          "output_type": "stream",
          "name": "stderr",
          "text": [
            "\r 18%|█▊        | 6728/36371 [00:20<01:30, 329.01frames/s]"
          ]
        },
        {
          "output_type": "stream",
          "name": "stdout",
          "text": [
            "Progress: 15696/36371\n",
            "Progress: 17940/36371\n",
            "Progress: 20184/36371\n"
          ]
        },
        {
          "output_type": "stream",
          "name": "stderr",
          "text": [
            "\r 26%|██▌       | 9282/36371 [00:26<01:16, 355.04frames/s]"
          ]
        },
        {
          "output_type": "stream",
          "name": "stdout",
          "text": [
            "Progress: 22738/36371\n",
            "Progress: 25292/36371\n",
            "Progress: 27846/36371\n"
          ]
        },
        {
          "output_type": "stream",
          "name": "stderr",
          "text": [
            "\r 32%|███▏      | 11706/36371 [00:33<01:08, 362.35frames/s]"
          ]
        },
        {
          "output_type": "stream",
          "name": "stdout",
          "text": [
            "Progress: 30270/36371\n",
            "Progress: 32694/36371\n",
            "Progress: 35118/36371\n"
          ]
        },
        {
          "output_type": "stream",
          "name": "stderr",
          "text": [
            "\r 39%|███▉      | 14128/36371 [00:42<01:09, 318.48frames/s]"
          ]
        },
        {
          "output_type": "stream",
          "name": "stdout",
          "text": [
            "Progress: 37540/36371\n",
            "Progress: 39962/36371\n",
            "Progress: 42384/36371\n"
          ]
        },
        {
          "output_type": "stream",
          "name": "stderr",
          "text": [
            "\r 47%|████▋     | 17098/36371 [00:53<01:03, 305.05frames/s]"
          ]
        },
        {
          "output_type": "stream",
          "name": "stdout",
          "text": [
            "Progress: 45354/36371\n",
            "Progress: 48324/36371\n",
            "Progress: 51294/36371\n"
          ]
        },
        {
          "output_type": "stream",
          "name": "stderr",
          "text": [
            "\r 55%|█████▍    | 19896/36371 [01:01<00:52, 310.91frames/s]"
          ]
        },
        {
          "output_type": "stream",
          "name": "stdout",
          "text": [
            "Progress: 54092/36371\n",
            "Progress: 56890/36371\n",
            "Progress: 59688/36371\n"
          ]
        },
        {
          "output_type": "stream",
          "name": "stderr",
          "text": [
            "\r 62%|██████▏   | 22722/36371 [01:11<00:44, 308.96frames/s]"
          ]
        },
        {
          "output_type": "stream",
          "name": "stdout",
          "text": [
            "Progress: 62514/36371\n",
            "Progress: 65340/36371\n",
            "Progress: 68166/36371\n"
          ]
        },
        {
          "output_type": "stream",
          "name": "stderr",
          "text": [
            "\r 69%|██████▊   | 24988/36371 [01:19<00:38, 297.46frames/s]"
          ]
        },
        {
          "output_type": "stream",
          "name": "stdout",
          "text": [
            "Progress: 70432/36371\n",
            "Progress: 72698/36371\n",
            "Progress: 74964/36371\n"
          ]
        },
        {
          "output_type": "stream",
          "name": "stderr",
          "text": [
            "\r 77%|███████▋  | 27926/36371 [01:27<00:26, 313.91frames/s]"
          ]
        },
        {
          "output_type": "stream",
          "name": "stdout",
          "text": [
            "Progress: 77902/36371\n",
            "Progress: 80840/36371\n",
            "Progress: 83778/36371\n"
          ]
        },
        {
          "output_type": "stream",
          "name": "stderr",
          "text": [
            "\r 84%|████████▍ | 30548/36371 [01:34<00:17, 329.59frames/s]"
          ]
        },
        {
          "output_type": "stream",
          "name": "stdout",
          "text": [
            "Progress: 86400/36371\n",
            "Progress: 89022/36371\n",
            "Progress: 91644/36371\n"
          ]
        },
        {
          "output_type": "stream",
          "name": "stderr",
          "text": [
            "\r 92%|█████████▏| 33410/36371 [01:44<00:09, 323.24frames/s]"
          ]
        },
        {
          "output_type": "stream",
          "name": "stdout",
          "text": [
            "Progress: 94506/36371\n",
            "Progress: 97368/36371\n",
            "Progress: 100230/36371\n"
          ]
        },
        {
          "output_type": "stream",
          "name": "stderr",
          "text": [
            "100%|██████████| 36371/36371 [01:47<00:00, 339.71frames/s]\n",
            "INFO:werkzeug:127.0.0.1 - - [11/Sep/2023 04:00:34] \"POST / HTTP/1.1\" 200 -\n"
          ]
        },
        {
          "output_type": "stream",
          "name": "stdout",
          "text": [
            "Progress: 103191/36371\n",
            "Progress: 106152/36371\n",
            "Progress: 109113/36371\n",
            "Finished\n"
          ]
        }
      ]
    }
  ]
}